{
 "cells": [
  {
   "cell_type": "code",
   "execution_count": 37,
   "metadata": {
    "collapsed": true
   },
   "outputs": [],
   "source": [
    "import pandas as pd\n",
    "import numpy as np\n",
    "import os\n",
    "import rebound\n",
    "import matplotlib \n",
    "%matplotlib inline\n",
    "from matplotlib import pyplot as plt\n",
    "\n",
    "from scipy.stats import norm\n",
    "import matplotlib.mlab as mlab\n",
    "from scipy.stats.mstats import normaltest"
   ]
  },
  {
   "cell_type": "markdown",
   "metadata": {},
   "source": [
    "DO NOT RUN THE NEXT THRE CELLS AS THEY ARE ONLY USED TO GENERATE THE CSV FILES FOR LATER USE"
   ]
  },
  {
   "cell_type": "code",
   "execution_count": 38,
   "metadata": {},
   "outputs": [
    {
     "name": "stdout",
     "output_type": "stream",
     "text": [
      "['Sys_1174_1e8', 'Sys_42_1e8', 'Sys_13362_1e8', 'Sys_24763_1e8', 'Sys_4641_1e8', 'Sys_19591_1e8', 'Sys_5958_1e8', 'Sys_3898_1e8', 'Sys_17641_1e8', 'Sys_12073_1e8', 'Sys_22_1e8', 'Sys_15220_1e8', 'Sys_24576_1e8', 'Sys_5505_1e8', 'Sys_24248_1e8', 'Sys_20041_1e8', 'Sys_10518_1e8', 'Sys_24017_1e8', 'Sys_18651_1e8', 'Sys_2128_1e8', 'Sys_24453_1e8', 'Sys_7431_1e8', 'Sys_4753_1e8', 'Sys_20620_1e8', 'Sys_24631_1e8', 'Sys_24346_1e8', 'Sys_21872_1e8', 'Sys_2105_1e8', 'Sys_19197_1e8', 'Sys_8462_1e8', 'Sys_15003_1e8', 'Sys_23005_1e8', 'Sys_22998_1e8', 'Sys_22032_1e8', 'Sys_24930_1e8', 'Sys_67_1e8', 'Sys_24824_1e8', 'Sys_24008_1e8', 'Sys_8744_1e8', 'Sys_20972_1e8', 'Sys_23975_1e8', 'Sys_3000_1e8', 'Sys_7341_1e8', 'Sys_2008_1e8', 'Sys_24705_1e8', 'Sys_8582_1e8', 'Sys_16588_1e8', 'Sys_18539_1e8', 'Sys_2010_1e8', 'Sys_12840_1e8', 'Sys_24013_1e8', 'Sys_19898_1e8', 'Sys_2612_1e8']\n"
     ]
    }
   ],
   "source": [
    "file_path = \"../data/distributions/\"\n",
    "files = os.listdir(file_path)\n",
    "long_int= [x for x in files if x[-3:]==\"1e8\"]\n",
    "print long_int\n",
    "pd_array = []\n",
    "pd_name = []"
   ]
  },
  {
   "cell_type": "code",
   "execution_count": 39,
   "metadata": {
    "collapsed": true
   },
   "outputs": [],
   "source": [
    "def get_times(row):   \n",
    "    #print fcpath+row[\"runstring\"]\n",
    "    sim = rebound.Simulation.from_file(fcpath+row[\"runstring\"])\n",
    "    #shadow = rebound.Simulation.from_file(shadowfcpath+row[\"runstring\"])\n",
    "    columns = ['t']\n",
    "    features = [ sim.t ]\n",
    "    #print '{0:.16f}'.format(sim.t)\n",
    "    return pd.Series(features, index=columns)"
   ]
  },
  {
   "cell_type": "code",
   "execution_count": 40,
   "metadata": {},
   "outputs": [
    {
     "name": "stdout",
     "output_type": "stream",
     "text": [
      "0\n",
      "1\n",
      "2\n",
      "3\n",
      "4\n",
      "5\n",
      "6\n",
      "7\n",
      "8\n",
      "9\n",
      "10\n",
      "11\n",
      "12\n",
      "13\n",
      "14\n",
      "15\n",
      "16\n",
      "17\n",
      "18\n",
      "19\n",
      "20\n",
      "21\n",
      "22\n",
      "23\n",
      "24\n",
      "25\n",
      "26\n",
      "27\n",
      "28\n",
      "29\n",
      "30\n",
      "31\n",
      "32\n",
      "33\n",
      "34\n",
      "35\n",
      "36\n",
      "37\n",
      "38\n",
      "39\n",
      "40\n",
      "41\n",
      "42\n",
      "43\n",
      "44\n",
      "45\n",
      "46\n",
      "47\n",
      "48\n",
      "49\n",
      "50\n",
      "51\n",
      "52\n",
      "472.667871952\n"
     ]
    }
   ],
   "source": [
    "#generate the csv from the indivual files from the rebound output\n",
    "\n",
    "import time\n",
    "start = time.time()\n",
    "for i, files in enumerate(long_int[:]):\n",
    "    \n",
    "    new_path = file_path+\"/\"+files\n",
    "    #df = pd.read_csv(new_path)\n",
    "    #%%time\n",
    "    fcpath = new_path+'/final_conditions/fc'\n",
    "    read_path = new_path+\"/\"+files[4:-4]+\".csv\"\n",
    "    df=pd.read_csv(read_path)\n",
    "    \n",
    "    #%%time\n",
    "    try:\n",
    "        df = pd.concat([df, df.apply(get_times, axis=1)], axis=1)\n",
    "        pd_array.append(df)\n",
    "        pd_name.append(files)\n",
    "        df.to_csv(\"../data/LongTimeScale/\" + pd_name[i]+\".csv\")\n",
    "\n",
    "    except Exception as e:\n",
    "        print e\n",
    "    #print read_path\n",
    "    print i\n",
    "end = time.time()\n",
    "print (end - start)"
   ]
  },
  {
   "cell_type": "code",
   "execution_count": 36,
   "metadata": {},
   "outputs": [
    {
     "name": "stdout",
     "output_type": "stream",
     "text": [
      "['Sys_5505_1e8.csv', 'Sys_16588_1e8.csv', 'Sys_24930_1e8.csv', 'Sys_23005_1e8.csv', 'Sys_13362_1e8.csv', 'Sys_24013_1e8.csv', 'Sys_19591_1e8.csv', 'Sys_12840_1e8.csv', 'Sys_24346_1e8.csv', 'Sys_19898_1e8.csv', 'Sys_42_1e8.csv', 'Sys_23975_1e8.csv', 'Sys_24705_1e8.csv', 'Sys_22998_1e8.csv', 'Sys_20620_1e8.csv', 'Sys_17641_1e8.csv', 'Sys_21872_1e8.csv', 'Sys_18651_1e8.csv', 'Sys_3000_1e8.csv', 'Sys_24631_1e8.csv', 'Sys_8462_1e8.csv', 'Sys_1174_1e8.csv', 'Sys_24017_1e8.csv', 'Sys_24248_1e8.csv', 'Sys_2128_1e8.csv', 'Sys_20041_1e8.csv', 'Sys_19197_1e8.csv', 'Sys_8744_1e8.csv', 'Sys_12073_1e8.csv', 'Sys_24576_1e8.csv', 'Sys_15003_1e8.csv', 'Sys_18539_1e8.csv', 'Sys_7431_1e8.csv', 'Sys_24453_1e8.csv', 'Sys_5958_1e8.csv', 'Sys_24763_1e8.csv', 'Sys_3898_1e8.csv', 'Sys_4753_1e8.csv', 'Sys_67_1e8.csv', 'Sys_2010_1e8.csv', 'Sys_15220_1e8.csv', 'Sys_24824_1e8.csv', 'Sys_2008_1e8.csv', 'Sys_20972_1e8.csv', 'Sys_22_1e8.csv', 'Sys_24008_1e8.csv', 'Sys_7341_1e8.csv', 'Sys_10518_1e8.csv']\n"
     ]
    }
   ],
   "source": [
    "file_path = \"../../../stability_stuff/stabilitydataset/data/LongTimeScale/\"\n",
    "files = os.listdir(file_path)\n",
    "print files"
   ]
  },
  {
   "cell_type": "code",
   "execution_count": 31,
   "metadata": {},
   "outputs": [
    {
     "name": "stdout",
     "output_type": "stream",
     "text": [
      "Sys_5505_1e8.csv 4.61439401305 0.315693064323\n",
      "Sys_16588_1e8.csv 6.62868040348 0.461928651882\n",
      "Sys_24930_1e8.csv 5.18212255808 0.473441709848\n",
      "Sys_23005_1e8.csv 6.76384330619 0.457545508171\n",
      "Sys_19591_1e8.csv 6.18262130787 0.466648537725\n",
      "Sys_12840_1e8.csv 4.70674825403 0.614338388127\n",
      "Sys_24346_1e8.csv 6.64300256059 0.347742992626\n",
      "Sys_19898_1e8.csv 4.87363205722 0.390358676558\n",
      "Sys_42_1e8.csv 4.07101066054 0.458957441336\n",
      "Sys_23975_1e8.csv 5.74634631972 0.357914717034\n",
      "Sys_24705_1e8.csv 5.27330548612 0.399256418664\n",
      "Sys_22998_1e8.csv 6.16872344277 0.398742380684\n",
      "Sys_20620_1e8.csv 5.4214350169 0.574658387471\n",
      "Sys_17641_1e8.csv 5.45021689843 0.387622185949\n",
      "Sys_21872_1e8.csv 5.1954103698 0.383354916906\n",
      "Sys_18651_1e8.csv 6.64037665472 0.507533022619\n",
      "Sys_3000_1e8.csv 6.09023776416 0.521330170556\n",
      "Sys_24631_1e8.csv 5.11616230377 0.340650289766\n",
      "Sys_8462_1e8.csv 5.52203547723 0.530931106236\n",
      "Sys_1174_1e8.csv 5.25905822642 0.238773389841\n",
      "Sys_24017_1e8.csv 5.28566920275 0.636529168305\n",
      "Sys_24248_1e8.csv 5.52614423916 0.383956395858\n",
      "Sys_20041_1e8.csv 6.16300585959 0.396913231599\n",
      "Sys_19197_1e8.csv 4.91598800821 0.489198921289\n",
      "Sys_8744_1e8.csv 4.87913699071 0.196627613677\n",
      "Sys_12073_1e8.csv 4.5221367686 0.523950144135\n",
      "Sys_24576_1e8.csv 5.08733495134 0.237956793592\n",
      "Sys_15003_1e8.csv 6.75109916559 0.45872585787\n",
      "Sys_18539_1e8.csv 6.81444227755 0.520814482309\n",
      "Sys_7431_1e8.csv 4.25681355008 0.522058649192\n",
      "Sys_24453_1e8.csv 4.35555760994 0.254270434106\n",
      "Sys_5958_1e8.csv 5.85950567304 0.495831962977\n",
      "Sys_24763_1e8.csv 5.86490741391 0.534223901131\n",
      "Sys_3898_1e8.csv 5.45026856321 0.990971213215\n",
      "Sys_4753_1e8.csv 6.20843179642 0.318610320496\n",
      "Sys_67_1e8.csv 7.4852314753 0.285402266671\n",
      "Sys_2010_1e8.csv 5.2846075155 0.693223244515\n",
      "Sys_15220_1e8.csv 5.81040169425 0.36583346111\n",
      "Sys_24824_1e8.csv 5.85247417292 0.667363857219\n",
      "Sys_20972_1e8.csv 6.13148543079 0.341582125616\n",
      "Sys_22_1e8.csv 6.02277441228 0.526084860401\n",
      "Sys_24008_1e8.csv 4.65248493259 0.284018952805\n",
      "Sys_10518_1e8.csv 6.46584786914 0.430704090208\n"
     ]
    },
    {
     "data": {
      "image/png": "[encoded data removed]",
      "text/plain": [
       "<matplotlib.figure.Figure at 0x7fb2639f7350>"
      ]
     },
     "metadata": {},
     "output_type": "display_data"
    },
    {
     "name": "stdout",
     "output_type": "stream",
     "text": [
      "Sample average 0.446099\n"
     ]
    }
   ],
   "source": [
    "#draw a scatter plot of each of the sigmas for each system:\n",
    "plt.figure(figsize=(10,6))\n",
    "sample_avg = 0\n",
    "count = 0\n",
    "for i , name in enumerate(files):\n",
    "    pdframe = pd.read_csv(file_path + name, index_col = 0)\n",
    "    #print pdframe.head()\n",
    "    #break\n",
    "    pdframe = pdframe[ (pdframe[\"t\"]<1e8) ]\n",
    "\n",
    "    times = np.log10(pdframe[\"t\"].as_matrix())\n",
    "    #x = np.linspace(times.min(), times.max(), 200)\n",
    "    mu1, std1 = norm.fit(times)\n",
    "    if mu1 > 3:\n",
    "        plt.scatter(mu1, std1)\n",
    "        sample_avg+= std1\n",
    "        count +=1\n",
    "        print name, mu1, std1\n",
    "    if std1> 0.3 and std1 < 0.5:\n",
    "        #print name, mu1\n",
    "        continue\n",
    "    #pdframe.to_csv(\"../data/LongTimeScale/\" + pd_name[i]+\".csv\")\n",
    "    #pd.\n",
    "    #break\n",
    "    \n",
    "plt.axhline(y=0.447)\n",
    "plt.annotate(r\"\\sigma = 0.477\",\n",
    "             xycoords='figure pixels', xy=(130, 150), fontsize = 20)\n",
    "plt.xlabel(\"$\\mu$ [log10 Orbits]\")\n",
    "plt.ylabel(\"$\\sigma$ [log10 Orbits]\")\n",
    "plt.ylim([0,5])\n",
    "plt.show()\n",
    "print(\"Sample average %f\" % (sample_avg/float(count)))"
   ]
  },
  {
   "cell_type": "code",
   "execution_count": 35,
   "metadata": {},
   "outputs": [
    {
     "name": "stdout",
     "output_type": "stream",
     "text": [
      "4.05994587797 7.82613623636\n"
     ]
    },
    {
     "data": {
      "text/plain": [
       "(array([  58.,  189.,  253.,  190.,  156.,   85.,   43.,   16.,    5.,    4.]),\n",
       " array([ 4.05994588,  4.43656491,  4.81318395,  5.18980299,  5.56642202,\n",
       "         5.94304106,  6.31966009,  6.69627913,  7.07289816,  7.4495172 ,\n",
       "         7.82613624]),\n",
       " <a list of 10 Patch objects>)"
      ]
     },
     "execution_count": 35,
     "metadata": {},
     "output_type": "execute_result"
    },
    {
     "data": {
      "image/png": "[encoded data removed]",
      "text/plain": [
       "<matplotlib.figure.Figure at 0x7fb263a0cb90>"
      ]
     },
     "metadata": {},
     "output_type": "display_data"
    }
   ],
   "source": [
    "#Run MCMC to get posterior distribution \n",
    "#try for one\n",
    "#Sample a Gaussian\n",
    "data = pd.read_csv(\"../data/LongTimeScale/Sys_24017_1e8.csv\")\n",
    "data[\"t\"]=np.log10(data[\"t\"])\n",
    "print data[\"t\"].min(), data[\"t\"].max()\n",
    "plt.hist(data[\"t\"])"
   ]
  },
  {
   "cell_type": "code",
   "execution_count": null,
   "metadata": {
    "collapsed": true
   },
   "outputs": [],
   "source": []
  }
 ],
 "metadata": {
  "kernelspec": {
   "display_name": "Python 2",
   "language": "python",
   "name": "python2"
  },
  "language_info": {
   "codemirror_mode": {
    "name": "ipython",
    "version": 2
   },
   "file_extension": ".py",
   "mimetype": "text/x-python",
   "name": "python",
   "nbconvert_exporter": "python",
   "pygments_lexer": "ipython2",
   "version": "2.7.13"
  }
 },
 "nbformat": 4,
 "nbformat_minor": 2
}
