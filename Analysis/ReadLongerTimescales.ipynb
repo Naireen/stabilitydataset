{
 "cells": [
  {
   "cell_type": "code",
   "execution_count": 1,
   "metadata": {
    "collapsed": true
   },
   "outputs": [],
   "source": [
    "import numpy as np\n",
    "import pandas as pd\n",
    "import matplotlib\n",
    "%matplotlib inline\n",
    "\n",
    "import os\n",
    "import rebound\n",
    "from matplotlib import pyplot as plt\n",
    "\n",
    "from scipy.stats import norm\n",
    "import matplotlib.mlab as mlab"
   ]
  },
  {
   "cell_type": "code",
   "execution_count": 6,
   "metadata": {},
   "outputs": [
    {
     "name": "stdout",
     "output_type": "stream",
     "text": [
      "['Sys_1174_1e8', 'Sys_42_1e8', 'Sys_13362_1e8', 'Sys_24763_1e8', 'Sys_19591_1e8', 'Sys_5958_1e8', 'Sys_3898_1e8', 'Sys_17641_1e8', 'Sys_12073_1e8', 'Sys_22_1e8', 'Sys_15220_1e8', 'Sys_24576_1e8', 'Sys_5505_1e8', 'Sys_24248_1e8', 'Sys_20041_1e8', 'Sys_10518_1e8', 'Sys_24017_1e8', 'Sys_18651_1e8', 'Sys_2128_1e8', 'Sys_24453_1e8', 'Sys_7431_1e8', 'Sys_4753_1e8', 'Sys_20620_1e8', 'Sys_24631_1e8', 'Sys_24346_1e8', 'Sys_21872_1e8', 'Sys_19197_1e8', 'Sys_8462_1e8', 'Sys_15003_1e8', 'Sys_23005_1e8', 'Sys_22998_1e8', 'Sys_24930_1e8', 'Sys_67_1e8', 'Sys_24824_1e8', 'Sys_24008_1e8', 'Sys_8744_1e8', 'Sys_20972_1e8', 'Sys_23975_1e8', 'Sys_3000_1e8', 'Sys_7341_1e8', 'Sys_2008_1e8', 'Sys_24705_1e8', 'Sys_16588_1e8', 'Sys_18539_1e8', 'Sys_2010_1e8', 'Sys_12840_1e8', 'Sys_24013_1e8', 'Sys_19898_1e8']\n"
     ]
    }
   ],
   "source": [
    "file_path = \"../data/distributions/\"\n",
    "files = os.listdir(file_path)\n",
    "long_int= [x for x in files if x[-3:]==\"1e8\"]\n",
    "print long_int\n",
    "pd_array = []\n",
    "pd_name = []"
   ]
  },
  {
   "cell_type": "code",
   "execution_count": 7,
   "metadata": {
    "collapsed": true
   },
   "outputs": [],
   "source": [
    "def get_times(row):   \n",
    "    #print fcpath+row[\"runstring\"]\n",
    "    sim = rebound.Simulation.from_file(fcpath+row[\"runstring\"])\n",
    "    #shadow = rebound.Simulation.from_file(shadowfcpath+row[\"runstring\"])\n",
    "    columns = ['t']\n",
    "    features = [ sim.t ]\n",
    "    #print '{0:.16f}'.format(sim.t)\n",
    "    return pd.Series(features, index=columns)"
   ]
  },
  {
   "cell_type": "code",
   "execution_count": 9,
   "metadata": {
    "scrolled": true
   },
   "outputs": [
    {
     "name": "stdout",
     "output_type": "stream",
     "text": [
      "0\n",
      "1\n",
      "2\n",
      "3\n",
      "4\n",
      "5\n",
      "6\n",
      "7\n",
      "8\n",
      "9\n",
      "10\n",
      "11\n",
      "12\n",
      "13\n",
      "14\n",
      "15\n",
      "16\n",
      "17\n",
      "18\n",
      "19\n",
      "20\n",
      "21\n",
      "22\n",
      "23\n",
      "24\n",
      "25\n",
      "26\n",
      "27\n",
      "28\n",
      "29\n",
      "30\n",
      "31\n",
      "32\n",
      "33\n",
      "34\n",
      "35\n",
      "36\n",
      "37\n",
      "38\n",
      "39\n",
      "40\n",
      "41\n",
      "42\n",
      "43\n",
      "44\n",
      "45\n",
      "46\n",
      "47\n",
      "520.844610929\n"
     ]
    }
   ],
   "source": [
    "import time\n",
    "start = time.time()\n",
    "for i, files in enumerate(long_int):\n",
    "    \n",
    "    new_path = file_path+\"/\"+files\n",
    "    #df = pd.read_csv(new_path)\n",
    "    #%%time\n",
    "    fcpath = new_path+'/final_conditions/fc'\n",
    "    read_path = new_path+\"/\"+files[4:-4]+\".csv\"\n",
    "    df=pd.read_csv(read_path)\n",
    "    \n",
    "    #%%time\n",
    "    try:\n",
    "        df = pd.concat([df, df.apply(get_times, axis=1)], axis=1)\n",
    "        pd_array.append(df)\n",
    "        pd_name.append(files)\n",
    "    except Exception as e:\n",
    "        print e\n",
    "    #print read_path\n",
    "    print i\n",
    "end = time.time()\n",
    "print (end - start)"
   ]
  },
  {
   "cell_type": "code",
   "execution_count": 10,
   "metadata": {
    "scrolled": true
   },
   "outputs": [
    {
     "name": "stdout",
     "output_type": "stream",
     "text": [
      "51\n"
     ]
    },
    {
     "data": {
      "text/html": [
       "<div>\n",
       "<table border=\"1\" class=\"dataframe\">\n",
       "  <thead>\n",
       "    <tr style=\"text-align: right;\">\n",
       "      <th></th>\n",
       "      <th>Unnamed: 0</th>\n",
       "      <th>runstring</th>\n",
       "      <th>t</th>\n",
       "    </tr>\n",
       "  </thead>\n",
       "  <tbody>\n",
       "    <tr>\n",
       "      <th>0</th>\n",
       "      <td>0</td>\n",
       "      <td>0000000.bin</td>\n",
       "      <td>6652.433185</td>\n",
       "    </tr>\n",
       "    <tr>\n",
       "      <th>1</th>\n",
       "      <td>1</td>\n",
       "      <td>0000001.bin</td>\n",
       "      <td>7976.164852</td>\n",
       "    </tr>\n",
       "    <tr>\n",
       "      <th>2</th>\n",
       "      <td>2</td>\n",
       "      <td>0000002.bin</td>\n",
       "      <td>6926.546410</td>\n",
       "    </tr>\n",
       "    <tr>\n",
       "      <th>3</th>\n",
       "      <td>3</td>\n",
       "      <td>0000003.bin</td>\n",
       "      <td>42855.955607</td>\n",
       "    </tr>\n",
       "    <tr>\n",
       "      <th>4</th>\n",
       "      <td>4</td>\n",
       "      <td>0000004.bin</td>\n",
       "      <td>215673.276454</td>\n",
       "    </tr>\n",
       "  </tbody>\n",
       "</table>\n",
       "</div>"
      ],
      "text/plain": [
       "   Unnamed: 0    runstring              t\n",
       "0           0  0000000.bin    6652.433185\n",
       "1           1  0000001.bin    7976.164852\n",
       "2           2  0000002.bin    6926.546410\n",
       "3           3  0000003.bin   42855.955607\n",
       "4           4  0000004.bin  215673.276454"
      ]
     },
     "execution_count": 10,
     "metadata": {},
     "output_type": "execute_result"
    }
   ],
   "source": [
    "print len(pd_array)\n",
    "pd_array[1].head()"
   ]
  },
  {
   "cell_type": "code",
   "execution_count": 11,
   "metadata": {
    "collapsed": true
   },
   "outputs": [],
   "source": [
    "from matplotlib import rc\n",
    "\n",
    "rc('text',usetex=True)\n",
    "rc('font',family='monospace')\n",
    "rc('font',serif='Times New Roman')\n",
    "rc('font',size=20,weight='black',stretch='normal',style='oblique')\n",
    "rc('axes',linewidth=2)"
   ]
  },
  {
   "cell_type": "code",
   "execution_count": 72,
   "metadata": {},
   "outputs": [
    {
     "name": "stdout",
     "output_type": "stream",
     "text": [
      "Sys_42_1e8 4.07101066054\n",
      "Sys_13362_1e8 2.08045964225\n",
      "Sys_42_1e8 4.07101066054\n",
      "Sys_13362_1e8 2.08045964225\n",
      "Sys_19591_1e8 6.18262130787\n",
      "Sys_5958_1e8 5.85950567304\n",
      "Sys_17641_1e8 5.45021689843\n",
      "Sys_15220_1e8 5.81040169425\n",
      "Sys_5505_1e8 4.61439401305\n",
      "Sys_24248_1e8 5.52614423916\n",
      "Sys_20041_1e8 6.16300585959\n",
      "Sys_10518_1e8 6.46584786914\n",
      "Sys_4753_1e8 6.20843179642\n",
      "Sys_24631_1e8 5.11616230377\n",
      "Sys_24346_1e8 6.64300256059\n",
      "Sys_21872_1e8 5.1954103698\n",
      "Sys_19197_1e8 4.91598800821\n",
      "Sys_15003_1e8 6.75109916559\n",
      "Sys_23005_1e8 6.76384330619\n",
      "Sys_22998_1e8 6.16872344277\n",
      "Sys_24930_1e8 5.18212255808\n",
      "Sys_20972_1e8 6.13148543079\n",
      "Sys_23975_1e8 5.74634631972\n",
      "Sys_2008_1e8 2.74415054086\n",
      "Sys_24705_1e8 5.27330548612\n",
      "Sys_16588_1e8 6.62868040348\n",
      "Sys_19898_1e8 4.87363205722\n"
     ]
    },
    {
     "data": {
      "image/png": "[encoded data removed]",
      "text/plain": [
       "<matplotlib.figure.Figure at 0x7f2a4cd33250>"
      ]
     },
     "metadata": {},
     "output_type": "display_data"
    },
    {
     "name": "stdout",
     "output_type": "stream",
     "text": [
      "Sample average 0.441778\n"
     ]
    }
   ],
   "source": [
    "#draw a scatter plot of each of the sigmas for each system:\n",
    "plt.figure(figsize=(10,6))\n",
    "sample_avg = 0\n",
    "count = 0\n",
    "for i , panda in enumerate(pd_array):\n",
    "    panda = panda[ (panda[\"t\"]<1e8) ]\n",
    "\n",
    "    times = np.log10(panda[\"t\"].as_matrix())\n",
    "    #x = np.linspace(times.min(), times.max(), 200)\n",
    "    mu1, std1 = norm.fit(times)\n",
    "    if mu1 > 3:\n",
    "        plt.scatter(mu1, std1)\n",
    "        sample_avg+= std1\n",
    "        count +=1\n",
    "    if std1> 0.3 and std1 < 0.5:\n",
    "        print pd_name[i], mu1\n",
    "    \n",
    "plt.axhline(y=0.447)\n",
    "plt.annotate(r\"\\sigma = 0.477\",\n",
    "             xycoords='figure pixels', xy=(130, 150), fontsize = 20)\n",
    "plt.xlabel(\"$\\mu$ [log10 Orbits]\")\n",
    "plt.ylabel(\"$\\sigma$ [log10 Orbits]\")\n",
    "plt.ylim([0,5])\n",
    "plt.show()\n",
    "print(\"Sample average %f\" % (sample_avg/float(count)))"
   ]
  },
  {
   "cell_type": "code",
   "execution_count": 25,
   "metadata": {
    "collapsed": true
   },
   "outputs": [],
   "source": [
    "from matplotlib import rc\n",
    "rc('text',usetex=True)\n",
    "rc('font',family='monospace')\n",
    "rc('font',serif='Times New Roman')\n",
    "rc('font',size=20,weight='black',stretch='normal',style='oblique')\n",
    "rc('axes',linewidth=2)"
   ]
  },
  {
   "cell_type": "code",
   "execution_count": 71,
   "metadata": {},
   "outputs": [
    {
     "name": "stdout",
     "output_type": "stream",
     "text": [
      "(999, 2)\n",
      "6.16300585959 0.396913231599\n"
     ]
    },
    {
     "name": "stderr",
     "output_type": "stream",
     "text": [
      "/mnt/raid-cita/nhussain/venv-2.7.13/lib/python2.7/site-packages/ipykernel_launcher.py:15: SettingWithCopyWarning: \n",
      "A value is trying to be set on a copy of a slice from a DataFrame.\n",
      "Try using .loc[row_indexer,col_indexer] = value instead\n",
      "\n",
      "See the caveats in the documentation: http://pandas.pydata.org/pandas-docs/stable/indexing.html#indexing-view-versus-copy\n",
      "  from ipykernel import kernelapp as app\n"
     ]
    },
    {
     "data": {
      "image/png": "[encoded data removed]",
      "text/plain": [
       "<matplotlib.figure.Figure at 0x7f2a4dd76fd0>"
      ]
     },
     "metadata": {},
     "output_type": "display_data"
    }
   ],
   "source": [
    "sim_id = 20041#5505#24930#2010#8744 These are already done\n",
    "path = '../data/'\n",
    "#fcpath = path +'distributions/final_conditions/fc'\n",
    "fcpath = path +'distributions/Sys_'+str(sim_id)+'_1e8/final_conditions/fc'\n",
    "\n",
    "df = pd.read_csv(path+'distributions/Sys_' +str(sim_id)+ \"_1e8/\"+str(sim_id)+\".csv\", index_col=0)\n",
    "df.tail()\n",
    "\n",
    "#%%time\n",
    "df = pd.concat([df, df.apply(get_times, axis=1)], axis=1)\n",
    "\n",
    "short_t = df[ (df[\"t\"]<1e8)]\n",
    "#short_t = df[df[\"t\"]>83]\n",
    "print short_t.shape\n",
    "short_t[\"t\"] = np.log10(short_t[\"t\"])\n",
    "#short_t['t'] = short_t.apply(np.log10(short_t[\"t\"]), axis=1)\n",
    "\n",
    "\n",
    "plt.figure(figsize=(10,6))\n",
    "plt.hist(short_t[\"t\"], bins= 20, normed=1, alpha = 0.6, lw=1,\n",
    "         ec= \"black\", label=str(short_t.shape[0])+\" Shadow Samples\")\n",
    "\n",
    "x = np.linspace(short_t[\"t\"].min() -0.5, short_t[\"t\"].max()+0.5, 200)\n",
    "mu1, std1 = norm.fit(short_t[\"t\"])\n",
    "plt.plot(x, mlab.normpdf(x, mu1, std1), color=\"red\", lw=2, \n",
    "         label=\"Gaussian Fit\")\n",
    "print mu1, std1\n",
    "plt.xlabel(r\"Log10 Orbits\")\n",
    "plt.legend(fontsize = 15)\n",
    "plt.savefig(\"/home/nhussain/Documents/MLstability/Figures/SampleHist_ID_\"+str(sim_id))"
   ]
  },
  {
   "cell_type": "code",
   "execution_count": 63,
   "metadata": {},
   "outputs": [
    {
     "name": "stdout",
     "output_type": "stream",
     "text": [
      "/mnt/raid-cita/nhussain/stability_stuff/stabilitydataset/Analysis\n"
     ]
    },
    {
     "data": {
      "text/plain": [
       "['TESS.png',\n",
       " 'log_time_diff.png',\n",
       " 'Distribution of Shadow Systems with Orbits <1e5.png',\n",
       " 'IncorrectFigures',\n",
       " 'SigmaProbabilities.png',\n",
       " 'Mean vs Dispersion_0to4_Nice.png',\n",
       " 'SigmaProbabilities2.png',\n",
       " 'Model_mistakes.png',\n",
       " 'Mean vs Dispersion.png',\n",
       " 'XGB_updated histogram.png',\n",
       " 'Mean vs Dispersion_0to4.png',\n",
       " 'log_time_diff_distinct.png',\n",
       " 'SampleHist_ID_2010.png',\n",
       " 'Histogram_Log10_T_Diff_11017_of_25000.png',\n",
       " 'SigmaProbabilities3.png',\n",
       " 'local_sigmas.png',\n",
       " 'VaryingParamsOverTime500.png',\n",
       " 'log_time_diff_zoomed.png',\n",
       " 'OptimalSigmaGaussian.png',\n",
       " 'FixedSigmaGaussian.png',\n",
       " 'VaryingParamsOverTime.png',\n",
       " 'Sample_Systems.png',\n",
       " 'SampleHist_ID_12840.png',\n",
       " 'PDP_projection_attempt1.png',\n",
       " 'SampleHist_ID_24017.png',\n",
       " 'SampleHist_ID_3898.png',\n",
       " 'theoretical_model.png',\n",
       " 'PDP_RH12_RH23.png',\n",
       " 'SmoothPDP.png',\n",
       " 'theoretical_model_same_bins.png',\n",
       " \"ColorCodedMu's_Nice.png\",\n",
       " 'Distribution of Shadow Systems with Orbits <1e7.png',\n",
       " 'PDPM1M2.png',\n",
       " 'PDPoverlargerParameterSpace.png',\n",
       " 'SampleHist_ID_24824.png',\n",
       " 'Distribution of Shadow Systems with Orbits <1000.png',\n",
       " 'Comparing model to data.png',\n",
       " \"ColorCodedMu's.png\",\n",
       " 'prob_dist and_EXP_val.png']"
      ]
     },
     "execution_count": 63,
     "metadata": {},
     "output_type": "execute_result"
    }
   ],
   "source": [
    "print os.getcwd()\n",
    "os.listdir(\"/home/nhussain/Documents/MLstability/Figures/\")"
   ]
  },
  {
   "cell_type": "code",
   "execution_count": 303,
   "metadata": {},
   "outputs": [
    {
     "name": "stdout",
     "output_type": "stream",
     "text": [
      "46\n",
      "43\n",
      "['Sys_42_1e8', 'Sys_13362_1e8', 'Sys_24763_1e8', 'Sys_19591_1e8', 'Sys_5958_1e8', 'Sys_17641_1e8', 'Sys_12073_1e8', 'Sys_22_1e8', 'Sys_24576_1e8', 'Sys_5505_1e8', 'Sys_24248_1e8', 'Sys_20041_1e8', 'Sys_10518_1e8', 'Sys_24017_1e8', 'Sys_18651_1e8', 'Sys_24453_1e8', 'Sys_7431_1e8', 'Sys_4753_1e8', 'Sys_20620_1e8', 'Sys_24631_1e8', 'Sys_24346_1e8', 'Sys_21872_1e8', 'Sys_19197_1e8', 'Sys_8462_1e8', 'Sys_15003_1e8', 'Sys_23005_1e8', 'Sys_22998_1e8', 'Sys_24930_1e8', 'Sys_67_1e8', 'Sys_24824_1e8', 'Sys_24008_1e8', 'Sys_8744_1e8', 'Sys_20972_1e8', 'Sys_23975_1e8', 'Sys_3000_1e8', 'Sys_7341_1e8', 'Sys_24705_1e8', 'Sys_16588_1e8', 'Sys_18539_1e8', 'Sys_2010_1e8', 'Sys_12840_1e8', 'Sys_24013_1e8', 'Sys_19898_1e8']\n"
     ]
    }
   ],
   "source": [
    "file_path = \"../data/distributions/\"\n",
    "files = os.listdir(file_path)\n",
    "long_int= [x for x in files if x[-3:]==\"1e8\"]\n",
    "print len(long_int)\n",
    "\n",
    "pd_array = []\n",
    "pd_name = []\n",
    "long_int.remove('Sys_1174_1e8')\n",
    "long_int.remove('Sys_3898_1e8')\n",
    "long_int.remove('Sys_15220_1e8')\n",
    "\n",
    "print len(long_int)\n",
    "print long_int"
   ]
  },
  {
   "cell_type": "code",
   "execution_count": 325,
   "metadata": {},
   "outputs": [
    {
     "name": "stdout",
     "output_type": "stream",
     "text": [
      "15220.csv\n",
      "   Unnamed: 0    runstring\n",
      "0           0  0000000.bin\n",
      "1           1  0000001.bin\n",
      "2           2  0000002.bin\n",
      "3           3  0000003.bin\n",
      "4           4  0000004.bin\n",
      "       runstring\n",
      "195  0000195.bin\n",
      "196  0000196.bin\n",
      "197  0000197.bin\n",
      "198  0000198.bin\n",
      "199  0000199.bin\n",
      "(200, 1)\n"
     ]
    }
   ],
   "source": [
    "for files in long_int:\n",
    "    files = \"Sys_15220_1e8\"\n",
    "    values = os.listdir(file_path +\"/\"+files)\n",
    "    val = [x for x in values if x[-3:]==\"csv\"]\n",
    "    print val[0]\n",
    "    df = pd.read_csv(file_path+\"/\"+files+\"/\"+val[0])\n",
    "    print df.head()\n",
    "    #del df[\"Unnamed: 0.1.1\"]\n",
    "    #del df[\"Unnamed: 0.1\"]\n",
    "    del df[\"Unnamed: 0\"]\n",
    "    #print df.tail()\n",
    "    #vals = np.linspace(201, df.shape[0]-1, (df.shape[0] - 201) )\n",
    "    #print vals\n",
    "    short_df = df.loc[:199]\n",
    "    print short_df.tail()\n",
    "\n",
    "    #print df.tail\n",
    "    print short_df.shape\n",
    "    #short_df.to_csv(file_path+\"/\"+files+\"/\"+val[0])\n",
    "    break\n",
    "    #break"
   ]
  },
  {
   "cell_type": "code",
   "execution_count": null,
   "metadata": {
    "collapsed": true
   },
   "outputs": [],
   "source": []
  }
 ],
 "metadata": {
  "kernelspec": {
   "display_name": "Python 2",
   "language": "python",
   "name": "python2"
  },
  "language_info": {
   "codemirror_mode": {
    "name": "ipython",
    "version": 2
   },
   "file_extension": ".py",
   "mimetype": "text/x-python",
   "name": "python",
   "nbconvert_exporter": "python",
   "pygments_lexer": "ipython2",
   "version": "2.7.13"
  }
 },
 "nbformat": 4,
 "nbformat_minor": 2
}
